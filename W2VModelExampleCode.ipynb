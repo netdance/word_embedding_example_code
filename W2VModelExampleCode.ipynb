{
 "cells": [
  {
   "cell_type": "code",
   "execution_count": 1,
   "id": "38232e4a-3a63-45fa-917e-8519166fa35b",
   "metadata": {},
   "outputs": [],
   "source": [
    "import logging\n",
    "logging.basicConfig(format=\"%(asctime)s : %(levelname)s : %(message)s\", level=logging.INFO)\n"
   ]
  },
  {
   "cell_type": "code",
   "execution_count": null,
   "id": "3ff537cc-4ce1-412d-81eb-1dfdc8d31b30",
   "metadata": {
    "editable": true,
    "slideshow": {
     "slide_type": ""
    },
    "tags": []
   },
   "outputs": [],
   "source": [
    "import gensim.downloader as api\n",
    "wv = api.load(\"word2vec-google-news-300\")"
   ]
  },
  {
   "cell_type": "code",
   "execution_count": 3,
   "id": "5050ca96-441e-4f4d-b130-55024261ecac",
   "metadata": {
    "editable": true,
    "slideshow": {
     "slide_type": ""
    },
    "tags": []
   },
   "outputs": [
    {
     "name": "stdout",
     "output_type": "stream",
     "text": [
      "word #0/3000000 is </s>\n",
      "word #1/3000000 is in\n",
      "word #2/3000000 is for\n",
      "word #3/3000000 is that\n",
      "word #4/3000000 is is\n",
      "word #5/3000000 is on\n",
      "word #6/3000000 is ##\n",
      "word #7/3000000 is The\n",
      "word #8/3000000 is with\n",
      "word #9/3000000 is said\n",
      "word #10/3000000 is was\n",
      "word #11/3000000 is the\n",
      "word #12/3000000 is at\n",
      "word #13/3000000 is not\n",
      "word #14/3000000 is as\n",
      "word #15/3000000 is it\n",
      "word #16/3000000 is be\n",
      "word #17/3000000 is from\n",
      "word #18/3000000 is by\n",
      "word #19/3000000 is are\n"
     ]
    }
   ],
   "source": [
    "for index, word in enumerate(wv.index_to_key):\n",
    "    if index >= 20:\n",
    "        break\n",
    "    print(f\"word #{index}/{len(wv.index_to_key)} is {word}\")\n"
   ]
  },
  {
   "cell_type": "code",
   "execution_count": 6,
   "id": "b20db0c7-0484-4eba-a7b4-90f200bdecdc",
   "metadata": {
    "editable": true,
    "slideshow": {
     "slide_type": ""
    },
    "tags": []
   },
   "outputs": [
    {
     "name": "stdout",
     "output_type": "stream",
     "text": [
      "[ 1.25976562e-01  2.97851562e-02  8.60595703e-03  1.39648438e-01\n",
      " -2.56347656e-02 -3.61328125e-02  1.11816406e-01 -1.98242188e-01\n",
      "  5.12695312e-02  3.63281250e-01 -2.42187500e-01 -3.02734375e-01\n",
      " -1.77734375e-01 -2.49023438e-02 -1.67968750e-01 -1.69921875e-01\n",
      "  3.46679688e-02  5.21850586e-03  4.63867188e-02  1.28906250e-01\n",
      "  1.36718750e-01  1.12792969e-01  5.95703125e-02  1.36718750e-01\n",
      "  1.01074219e-01 -1.76757812e-01 -2.51953125e-01  5.98144531e-02\n",
      "  3.41796875e-01 -3.11279297e-02  1.04492188e-01  6.17675781e-02\n",
      "  1.24511719e-01  4.00390625e-01 -3.22265625e-01  8.39843750e-02\n",
      "  3.90625000e-02  5.85937500e-03  7.03125000e-02  1.72851562e-01\n",
      "  1.38671875e-01 -2.31445312e-01  2.83203125e-01  1.42578125e-01\n",
      "  3.41796875e-01 -2.39257812e-02 -1.09863281e-01  3.32031250e-02\n",
      " -5.46875000e-02  1.53198242e-02 -1.62109375e-01  1.58203125e-01\n",
      " -2.59765625e-01  2.01416016e-02 -1.63085938e-01  1.35803223e-03\n",
      " -1.44531250e-01 -5.68847656e-02  4.29687500e-02 -2.46582031e-02\n",
      "  1.85546875e-01  4.47265625e-01  9.58251953e-03  1.31835938e-01\n",
      "  9.86328125e-02 -1.85546875e-01 -1.00097656e-01 -1.33789062e-01\n",
      " -1.25000000e-01  2.83203125e-01  1.23046875e-01  5.32226562e-02\n",
      " -1.77734375e-01  8.59375000e-02 -2.18505859e-02  2.05078125e-02\n",
      " -1.39648438e-01  2.51464844e-02  1.38671875e-01 -1.05468750e-01\n",
      "  1.38671875e-01  8.88671875e-02 -7.51953125e-02 -2.13623047e-02\n",
      "  1.72851562e-01  4.63867188e-02 -2.65625000e-01  8.91113281e-03\n",
      "  1.49414062e-01  3.78417969e-02  2.38281250e-01 -1.24511719e-01\n",
      " -2.17773438e-01 -1.81640625e-01  2.97851562e-02  5.71289062e-02\n",
      " -2.89306641e-02  1.24511719e-02  9.66796875e-02 -2.31445312e-01\n",
      "  5.81054688e-02  6.68945312e-02  7.08007812e-02 -3.08593750e-01\n",
      " -2.14843750e-01  1.45507812e-01 -4.27734375e-01 -9.39941406e-03\n",
      "  1.54296875e-01 -7.66601562e-02  2.89062500e-01  2.77343750e-01\n",
      " -4.86373901e-04 -1.36718750e-01  3.24218750e-01 -2.46093750e-01\n",
      " -3.03649902e-03 -2.11914062e-01  1.25000000e-01  2.69531250e-01\n",
      "  2.04101562e-01  8.25195312e-02 -2.01171875e-01 -1.60156250e-01\n",
      " -3.78417969e-02 -1.20117188e-01  1.15234375e-01 -4.10156250e-02\n",
      " -3.95507812e-02 -8.98437500e-02  6.34765625e-03  2.03125000e-01\n",
      "  1.86523438e-01  2.73437500e-01  6.29882812e-02  1.41601562e-01\n",
      " -9.81445312e-02  1.38671875e-01  1.82617188e-01  1.73828125e-01\n",
      "  1.73828125e-01 -2.37304688e-01  1.78710938e-01  6.34765625e-02\n",
      "  2.36328125e-01 -2.08984375e-01  8.74023438e-02 -1.66015625e-01\n",
      " -7.91015625e-02  2.43164062e-01 -8.88671875e-02  1.26953125e-01\n",
      " -2.16796875e-01 -1.73828125e-01 -3.59375000e-01 -8.25195312e-02\n",
      " -6.49414062e-02  5.07812500e-02  1.35742188e-01 -7.47070312e-02\n",
      " -1.64062500e-01  1.15356445e-02  4.45312500e-01 -2.15820312e-01\n",
      " -1.11328125e-01 -1.92382812e-01  1.70898438e-01 -1.25000000e-01\n",
      "  2.65502930e-03  1.92382812e-01 -1.74804688e-01  1.39648438e-01\n",
      "  2.92968750e-01  1.13281250e-01  5.95703125e-02 -6.39648438e-02\n",
      "  9.96093750e-02 -2.72216797e-02  1.96533203e-02  4.27246094e-02\n",
      " -2.46093750e-01  6.39648438e-02 -2.25585938e-01 -1.68945312e-01\n",
      "  2.89916992e-03  8.20312500e-02  3.41796875e-01  4.32128906e-02\n",
      "  1.32812500e-01  1.42578125e-01  7.61718750e-02  5.98144531e-02\n",
      " -1.19140625e-01  2.74658203e-03 -6.29882812e-02 -2.72216797e-02\n",
      " -4.82177734e-03 -8.20312500e-02 -2.49023438e-02 -4.00390625e-01\n",
      " -1.06933594e-01  4.24804688e-02  7.76367188e-02 -1.16699219e-01\n",
      "  7.37304688e-02 -9.22851562e-02  1.07910156e-01  1.58203125e-01\n",
      "  4.24804688e-02  1.26953125e-01  3.61328125e-02  2.67578125e-01\n",
      " -1.01074219e-01 -3.02734375e-01 -5.76171875e-02  5.05371094e-02\n",
      "  5.26428223e-04 -2.07031250e-01 -1.38671875e-01 -8.97216797e-03\n",
      " -2.78320312e-02 -1.41601562e-01  2.07031250e-01 -1.58203125e-01\n",
      "  1.27929688e-01  1.49414062e-01 -2.24609375e-02 -8.44726562e-02\n",
      "  1.22558594e-01  2.15820312e-01 -2.13867188e-01 -3.12500000e-01\n",
      " -3.73046875e-01  4.08935547e-03  1.07421875e-01  1.06933594e-01\n",
      "  7.32421875e-02  8.97216797e-03 -3.88183594e-02 -1.29882812e-01\n",
      "  1.49414062e-01 -2.14843750e-01 -1.83868408e-03  9.91210938e-02\n",
      "  1.57226562e-01 -1.14257812e-01 -2.05078125e-01  9.91210938e-02\n",
      "  3.69140625e-01 -1.97265625e-01  3.54003906e-02  1.09375000e-01\n",
      "  1.31835938e-01  1.66992188e-01  2.35351562e-01  1.04980469e-01\n",
      " -4.96093750e-01 -1.64062500e-01 -1.56250000e-01 -5.22460938e-02\n",
      "  1.03027344e-01  2.43164062e-01 -1.88476562e-01  5.07812500e-02\n",
      " -9.37500000e-02 -6.68945312e-02  2.27050781e-02  7.61718750e-02\n",
      "  2.89062500e-01  3.10546875e-01 -5.37109375e-02  2.28515625e-01\n",
      "  2.51464844e-02  6.78710938e-02 -1.21093750e-01 -2.15820312e-01\n",
      " -2.73437500e-01 -3.07617188e-02 -3.37890625e-01  1.53320312e-01\n",
      "  2.33398438e-01 -2.08007812e-01  3.73046875e-01  8.20312500e-02\n",
      "  2.51953125e-01 -7.61718750e-02 -4.66308594e-02 -2.23388672e-02\n",
      "  2.99072266e-02 -5.93261719e-02 -4.66918945e-03 -2.44140625e-01\n",
      " -2.09960938e-01 -2.87109375e-01 -4.54101562e-02 -1.77734375e-01\n",
      " -2.79296875e-01 -8.59375000e-02  9.13085938e-02  2.51953125e-01]\n"
     ]
    }
   ],
   "source": [
    "vec_king= wv[\"king\"]\n",
    "print(vec_king)"
   ]
  },
  {
   "cell_type": "code",
   "execution_count": 7,
   "id": "444f6482-62da-4f58-8fb6-cf7e1b7e1a4c",
   "metadata": {},
   "outputs": [
    {
     "name": "stdout",
     "output_type": "stream",
     "text": [
      "'car'\t'minivan'\t0.69\n",
      "'car'\t'bicycle'\t0.54\n",
      "'car'\t'airplane'\t0.42\n",
      "'car'\t'cereal'\t0.14\n",
      "'car'\t'communism'\t0.06\n"
     ]
    }
   ],
   "source": [
    "pairs = [\n",
    "    (\"car\", \"minivan\"),\n",
    "    (\"car\", \"bicycle\"), \n",
    "    (\"car\", \"airplane\"),\n",
    "    (\"car\", \"cereal\"),\n",
    "    (\"car\", \"communism\"),\n",
    "]\n",
    "for w1, w2 in pairs:\n",
    "    print('%r\\t%r\\t%.2f' % (w1,w2,wv.similarity(w1,w2)))"
   ]
  },
  {
   "cell_type": "code",
   "execution_count": 12,
   "id": "0c3a8c63-9356-46d6-93af-01f2c5c11615",
   "metadata": {},
   "outputs": [
    {
     "name": "stdout",
     "output_type": "stream",
     "text": [
      "[('SUV', 0.8532192707061768), ('vehicle', 0.8175783753395081), ('pickup_truck', 0.7763689756393433), ('Jeep', 0.7567334175109863), ('Ford_Explorer', 0.7565719485282898), ('sedan', 0.7446292042732239), ('station_wagon', 0.7440940141677856), ('Honda_Civic', 0.7440057396888733), ('Nissan_Altima', 0.7391073703765869), ('Ford_Taurus', 0.7306575179100037)]\n"
     ]
    }
   ],
   "source": [
    "print(wv.most_similar(positive=[\"car\", \"minivan\"], topn=10))"
   ]
  },
  {
   "cell_type": "code",
   "execution_count": 13,
   "id": "97fd1414-d4b0-4e01-ba87-b13def5fda9b",
   "metadata": {},
   "outputs": [
    {
     "name": "stdout",
     "output_type": "stream",
     "text": [
      "car\n"
     ]
    }
   ],
   "source": [
    "print(wv.doesnt_match([\"fire\",\"water\",\"land\",\"sea\",\"air\",\"car\"]))"
   ]
  },
  {
   "cell_type": "code",
   "execution_count": 15,
   "id": "82b91beb-b0cc-450d-a378-90b9b5ebc6eb",
   "metadata": {},
   "outputs": [
    {
     "name": "stdout",
     "output_type": "stream",
     "text": [
      "[('queen', 0.7118192911148071), ('monarch', 0.6189674735069275), ('princess', 0.5902431011199951), ('crown_prince', 0.5499460697174072), ('prince', 0.5377321243286133)]\n"
     ]
    }
   ],
   "source": [
    "print(wv.most_similar(positive=[\"king\",\"woman\"],negative=[\"man\"],topn=5))"
   ]
  },
  {
   "cell_type": "code",
   "execution_count": 16,
   "id": "8817912c-f4e3-49fe-9437-9b5b75a0e03f",
   "metadata": {},
   "outputs": [],
   "source": [
    "from gensim.test.utils import datapath\n",
    "from gensim import utils"
   ]
  },
  {
   "cell_type": "code",
   "execution_count": 17,
   "id": "691f78a8-0c94-4477-9d61-f88e03bacd2b",
   "metadata": {},
   "outputs": [],
   "source": [
    "class MyCorpus:\n",
    "    def __iter__(self):\n",
    "        corpus_path = datapath(\"lee_background.cor\")\n",
    "        for line in open(corpus_path):\n",
    "            yield utils.simple_preprocess(line)"
   ]
  },
  {
   "cell_type": "code",
   "execution_count": 18,
   "id": "d2f4e2cc-94a5-4759-94e6-cbf76aa199b3",
   "metadata": {},
   "outputs": [],
   "source": [
    "import gensim.models\n",
    "\n",
    "sentences = MyCorpus()\n",
    "model = gensim.models.Word2Vec(sentences=sentences)"
   ]
  },
  {
   "cell_type": "code",
   "execution_count": 19,
   "id": "98d46f4f-82cc-4811-8018-75417e518f59",
   "metadata": {},
   "outputs": [
    {
     "name": "stdout",
     "output_type": "stream",
     "text": [
      "[-0.02051564  0.05919355  0.01411391  0.01497868  0.01203296 -0.10182015\n",
      "  0.0450587   0.10888429 -0.00445824 -0.01943061 -0.00654779 -0.06783392\n",
      "  0.00712427  0.03545106  0.00700739  0.01380415 -0.00148645 -0.00083671\n",
      " -0.02340532 -0.07900465  0.04420586  0.01026894  0.01424337 -0.00043961\n",
      " -0.02588997  0.02483637 -0.02490267 -0.01525813 -0.03449277  0.01695629\n",
      "  0.04124902 -0.05073876  0.04456494 -0.03879648 -0.01303987  0.05775178\n",
      "  0.01940773  0.01136603 -0.02195203 -0.03648756 -0.01842347  0.0049012\n",
      " -0.01254806  0.01584474  0.03419567 -0.0245752  -0.03055484 -0.00273443\n",
      "  0.0108325   0.03904298  0.02135807 -0.0290898  -0.0225508   0.00111176\n",
      " -0.01864081  0.02166642  0.0003383   0.00051084 -0.02918725  0.00462718\n",
      " -0.01684643  0.00049355  0.01135071 -0.00540102 -0.0374642   0.07472952\n",
      "  0.01802414  0.03717558 -0.04706317  0.0611275  -0.0111504   0.00750786\n",
      "  0.06185649 -0.01004478  0.04558879  0.03510815 -0.00164703 -0.02486633\n",
      " -0.04989662 -0.01706536 -0.04067244  0.00935618 -0.03937592  0.04763037\n",
      " -0.00206011 -0.01599047  0.02565503  0.04029651  0.05974938  0.01651851\n",
      "  0.04567044  0.06445154  0.05543438  0.01283929  0.11249499  0.02580198\n",
      "  0.05779621 -0.0069987   0.01035734 -0.00617427]\n"
     ]
    }
   ],
   "source": [
    "vec_king = model.wv[\"king\"]\n",
    "print(vec_king)"
   ]
  },
  {
   "cell_type": "code",
   "execution_count": 20,
   "id": "d6d3ea9f-415c-4a08-a15a-6e37c0812454",
   "metadata": {},
   "outputs": [
    {
     "name": "stdout",
     "output_type": "stream",
     "text": [
      "word #0/1750 is the\n",
      "word #1/1750 is to\n",
      "word #2/1750 is of\n",
      "word #3/1750 is in\n",
      "word #4/1750 is and\n",
      "word #5/1750 is he\n",
      "word #6/1750 is is\n",
      "word #7/1750 is for\n",
      "word #8/1750 is on\n",
      "word #9/1750 is said\n",
      "word #10/1750 is that\n",
      "word #11/1750 is has\n",
      "word #12/1750 is says\n",
      "word #13/1750 is was\n",
      "word #14/1750 is have\n",
      "word #15/1750 is it\n",
      "word #16/1750 is be\n",
      "word #17/1750 is are\n",
      "word #18/1750 is with\n",
      "word #19/1750 is will\n"
     ]
    }
   ],
   "source": [
    "for index, word in enumerate(model.wv.index_to_key):\n",
    "    if index >= 20:\n",
    "        break\n",
    "    print(f\"word #{index}/{len(model.wv.index_to_key)} is {word}\")"
   ]
  },
  {
   "cell_type": "code",
   "execution_count": 21,
   "id": "59f86b0e-79e6-47d6-8c1f-11de3340ace9",
   "metadata": {},
   "outputs": [],
   "source": [
    "import tempfile\n"
   ]
  },
  {
   "cell_type": "code",
   "execution_count": 23,
   "id": "1c8664d6-6746-4dc8-a8aa-9dc5ae955bdf",
   "metadata": {},
   "outputs": [],
   "source": [
    "with tempfile.NamedTemporaryFile(prefix=\"gensim-model-\", delete=False) as tmp:\n",
    "    temporary_filepath = tmp.name\n",
    "    model.save(temporary_filepath)\n",
    "    #now its saved, so we can load it\n",
    "    new_model = gensim.models.Word2Vec.load(temporary_filepath)"
   ]
  },
  {
   "cell_type": "code",
   "execution_count": null,
   "id": "02b06857-dc66-4d81-b793-4debbdb966cf",
   "metadata": {},
   "outputs": [],
   "source": []
  },
  {
   "cell_type": "code",
   "execution_count": null,
   "id": "be832342-a371-4d6e-b45b-bf599ec8eccc",
   "metadata": {},
   "outputs": [],
   "source": []
  },
  {
   "cell_type": "code",
   "execution_count": null,
   "id": "79e0a957-1771-4de9-bd1b-1df00ef342a6",
   "metadata": {},
   "outputs": [],
   "source": []
  }
 ],
 "metadata": {
  "kernelspec": {
   "display_name": "Python 3 (ipykernel)",
   "language": "python",
   "name": "python3"
  },
  "language_info": {
   "codemirror_mode": {
    "name": "ipython",
    "version": 3
   },
   "file_extension": ".py",
   "mimetype": "text/x-python",
   "name": "python",
   "nbconvert_exporter": "python",
   "pygments_lexer": "ipython3",
   "version": "3.11.10"
  }
 },
 "nbformat": 4,
 "nbformat_minor": 5
}
