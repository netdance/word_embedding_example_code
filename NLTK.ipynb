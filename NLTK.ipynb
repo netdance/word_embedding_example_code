{
 "cells": [
  {
   "cell_type": "code",
   "execution_count": null,
   "id": "a512155d-3bdd-4b7b-8fe5-a4702c183fd7",
   "metadata": {},
   "outputs": [],
   "source": [
    "import nltk.chat.suntsu as suntsu\n",
    "\n",
    "suntsu.demo()"
   ]
  },
  {
   "cell_type": "code",
   "execution_count": null,
   "id": "9a987a70-1ef7-4282-8b8a-53f2637393f6",
   "metadata": {},
   "outputs": [],
   "source": [
    "import nltk\n",
    "nltk.download('word2vec_sample')"
   ]
  },
  {
   "cell_type": "code",
   "execution_count": null,
   "id": "ab69c0a2-a8e8-405a-81af-6ea4ed19cf1a",
   "metadata": {},
   "outputs": [],
   "source": [
    "import nltk\n",
    "nltk.download('wordnet2022')\n",
    "nltk.download('brown')"
   ]
  },
  {
   "cell_type": "code",
   "execution_count": null,
   "id": "5baddd34-48c4-4288-a4de-c8816668bdcd",
   "metadata": {},
   "outputs": [],
   "source": [
    "from nltk.test.gensim_fixt import setup_module\n",
    "setup_module()"
   ]
  },
  {
   "cell_type": "code",
   "execution_count": null,
   "id": "cb9b14b9-f8a9-4747-9fa1-8fca50c6b801",
   "metadata": {},
   "outputs": [],
   "source": [
    "import gensim"
   ]
  },
  {
   "cell_type": "code",
   "execution_count": null,
   "id": "ecdd77e1-076f-48a9-83be-8b5e7cf9018e",
   "metadata": {},
   "outputs": [],
   "source": [
    "from nltk.corpus import brown\n",
    "#train_set = brown.sents()[:10000]\n",
    "train_set = brown.sents()\n",
    "model = gensim.models.Word2Vec(train_set)"
   ]
  },
  {
   "cell_type": "code",
   "execution_count": null,
   "id": "36dd3922-d8cc-4a1a-8368-2074cf676042",
   "metadata": {},
   "outputs": [],
   "source": [
    "len(new_model.wv['university'])"
   ]
  },
  {
   "cell_type": "code",
   "execution_count": null,
   "id": "5a6819d5-2f8a-4af6-8feb-bddc4bd57ddb",
   "metadata": {},
   "outputs": [],
   "source": [
    "print(new_model.wv.similarity('university','school'))"
   ]
  },
  {
   "cell_type": "code",
   "execution_count": null,
   "id": "52aa3489-058f-4dc9-bd9a-00b150d678e8",
   "metadata": {},
   "outputs": [],
   "source": [
    "from nltk.data import find\n",
    "word2vec_sample = str(find('models/word2vec_sample/pruned.word2vec.txt'))\n",
    "model = gensim.models.KeyedVectors.load_word2vec_format(word2vec_sample, binary=False)"
   ]
  },
  {
   "cell_type": "code",
   "execution_count": null,
   "id": "76844def-d60f-4712-944a-caf72d09d8f6",
   "metadata": {},
   "outputs": [],
   "source": [
    "len(model)"
   ]
  },
  {
   "cell_type": "code",
   "execution_count": null,
   "id": "e3e2526f-156c-44c9-883d-9125525ff8f0",
   "metadata": {},
   "outputs": [],
   "source": [
    "len(model['university'])"
   ]
  },
  {
   "cell_type": "code",
   "execution_count": null,
   "id": "d5ceed7f-f4c5-4c6a-9b90-9f83e089a6cd",
   "metadata": {},
   "outputs": [],
   "source": [
    "model.most_similar(positive=['university'], topn = 10)"
   ]
  },
  {
   "cell_type": "code",
   "execution_count": null,
   "id": "20a715cc-51e3-47e7-938b-952318d7e880",
   "metadata": {},
   "outputs": [],
   "source": [
    "model.doesnt_match('breakfast cereal dinner lunch'.split())"
   ]
  },
  {
   "cell_type": "code",
   "execution_count": null,
   "id": "e834dea6-5ac3-4005-bd20-f9b203ccda48",
   "metadata": {},
   "outputs": [],
   "source": [
    "model.most_similar(positive=['woman','king'], negative=['man'], topn = 1)"
   ]
  },
  {
   "cell_type": "code",
   "execution_count": null,
   "id": "a341297b-f6cf-4e75-9e80-ecf0bbfc1d0a",
   "metadata": {},
   "outputs": [],
   "source": [
    "model.most_similar(positive=['Paris','Germany'], negative=['Berlin'], topn = 1)"
   ]
  },
  {
   "cell_type": "code",
   "execution_count": null,
   "id": "e3a74e32-ec63-4bed-b9d2-e74cbe594052",
   "metadata": {},
   "outputs": [],
   "source": [
    "import numpy as np\n",
    "labels = []\n",
    "count = 0\n",
    "max_count = 100\n",
    "X = np.zeros(shape=(max_count,len(model[\"university\"])))\n",
    "\n",
    "for term in model.index_to_key:\n",
    "    X[count] = model[term]\n",
    "    labels.append(term)\n",
    "    count+= 1\n",
    "    if count >= max_count: break\n",
    "\n",
    "# It is recommended to use PCA first to reduce to ~50 dimensions\n",
    "from sklearn.decomposition import PCA\n",
    "pca = PCA(n_components=50)\n",
    "X_50 = pca.fit_transform(X)\n",
    "\n",
    "# Using TSNE to further reduce to 2 dimensions\n",
    "from sklearn.manifold import TSNE\n",
    "model_tsne = TSNE(n_components=2, random_state=0)\n",
    "Y = model_tsne.fit_transform(X_50)\n",
    "\n",
    "# Show the scatter plot\n",
    "import matplotlib.pyplot as plt\n",
    "plt.scatter(Y[:,0], Y[:,1], 20)\n",
    "\n",
    "# Add labels\n",
    "for label, x, y in zip(labels, Y[:, 0], Y[:, 1]):\n",
    "    plt.annotate(label, xy = (x,y), xytext = (0, 0), textcoords = \"offset points\", size = 10)\n",
    "\n",
    "plt.show()"
   ]
  },
  {
   "cell_type": "code",
   "execution_count": null,
   "id": "8676ef12-1b94-4e92-86e1-fe89bed0a9e1",
   "metadata": {},
   "outputs": [],
   "source": []
  },
  {
   "cell_type": "code",
   "execution_count": null,
   "id": "597cd041-57b3-4cae-ba25-4af82a219e33",
   "metadata": {},
   "outputs": [],
   "source": []
  },
  {
   "cell_type": "code",
   "execution_count": null,
   "id": "4431b18f-b4ff-48d2-a602-d77eb266e157",
   "metadata": {},
   "outputs": [],
   "source": []
  },
  {
   "cell_type": "code",
   "execution_count": null,
   "id": "b3a92f28-96ec-4d8d-a316-fc2606263584",
   "metadata": {},
   "outputs": [],
   "source": []
  },
  {
   "cell_type": "code",
   "execution_count": null,
   "id": "677056f5-46b7-48c6-94dc-ced8abae8d5c",
   "metadata": {},
   "outputs": [],
   "source": []
  },
  {
   "cell_type": "code",
   "execution_count": null,
   "id": "c19ea6aa-001b-43bb-92ee-c2dbf21dc996",
   "metadata": {},
   "outputs": [],
   "source": []
  },
  {
   "cell_type": "code",
   "execution_count": null,
   "id": "675c71a6-d5c0-42bc-b39d-8fa83ee3b775",
   "metadata": {},
   "outputs": [],
   "source": []
  },
  {
   "cell_type": "code",
   "execution_count": null,
   "id": "f3bb8836-5fc0-4d75-976e-21d85f751203",
   "metadata": {},
   "outputs": [],
   "source": []
  },
  {
   "cell_type": "code",
   "execution_count": null,
   "id": "b7ac8317-597f-439d-a3df-75b1bbc1f084",
   "metadata": {},
   "outputs": [],
   "source": []
  }
 ],
 "metadata": {
  "kernelspec": {
   "display_name": "Python 3 (ipykernel)",
   "language": "python",
   "name": "python3"
  },
  "language_info": {
   "codemirror_mode": {
    "name": "ipython",
    "version": 3
   },
   "file_extension": ".py",
   "mimetype": "text/x-python",
   "name": "python",
   "nbconvert_exporter": "python",
   "pygments_lexer": "ipython3",
   "version": "3.11.10"
  }
 },
 "nbformat": 4,
 "nbformat_minor": 5
}
