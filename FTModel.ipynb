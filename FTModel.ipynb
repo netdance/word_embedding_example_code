{
 "cells": [
  {
   "cell_type": "code",
   "execution_count": 1,
   "id": "20ce22d8-9c17-4216-92ae-ec69bec7b29f",
   "metadata": {},
   "outputs": [],
   "source": [
    "import logging\n",
    "logging.basicConfig(level=logging.INFO)"
   ]
  },
  {
   "cell_type": "code",
   "execution_count": 2,
   "id": "d3c50369-ff4c-4c2a-bbc7-e0f965f76c76",
   "metadata": {},
   "outputs": [
    {
     "name": "stderr",
     "output_type": "stream",
     "text": [
      "INFO:gensim.corpora.dictionary:adding document #0 to Dictionary<0 unique tokens: []>\n",
      "INFO:gensim.corpora.dictionary:built Dictionary<12 unique tokens: ['computer', 'human', 'interface', 'response', 'survey']...> from 9 documents (total 29 corpus positions)\n",
      "INFO:gensim.utils:Dictionary lifecycle event {'msg': \"built Dictionary<12 unique tokens: ['computer', 'human', 'interface', 'response', 'survey']...> from 9 documents (total 29 corpus positions)\", 'datetime': '2024-10-19T18:26:29.791706', 'gensim': '4.3.3', 'python': '3.11.10 (main, Oct  3 2024, 02:26:51) [Clang 14.0.6 ]', 'platform': 'macOS-15.0.1-arm64-arm-64bit', 'event': 'created'}\n"
     ]
    }
   ],
   "source": [
    "from pprint import pprint as print\n",
    "from gensim.models.fasttext import FastText\n",
    "from gensim.test.utils import datapath"
   ]
  },
  {
   "cell_type": "code",
   "execution_count": 3,
   "id": "9fbf0bf6-d798-4179-987d-68b9b91bcfd1",
   "metadata": {},
   "outputs": [
    {
     "name": "stderr",
     "output_type": "stream",
     "text": [
      "INFO:gensim.utils:FastText lifecycle event {'params': 'FastText<vocab=0, vector_size=100, alpha=0.025>', 'datetime': '2024-10-19T18:32:42.247320', 'gensim': '4.3.3', 'python': '3.11.10 (main, Oct  3 2024, 02:26:51) [Clang 14.0.6 ]', 'platform': 'macOS-15.0.1-arm64-arm-64bit', 'event': 'created'}\n",
      "INFO:gensim.models.word2vec:collecting all words and their counts\n",
      "INFO:gensim.models.word2vec:PROGRESS: at sentence #0, processed 0 words, keeping 0 word types\n",
      "INFO:gensim.models.word2vec:collected 10781 word types from a corpus of 59890 raw words and 300 sentences\n",
      "INFO:gensim.models.word2vec:Creating a fresh vocabulary\n",
      "INFO:gensim.utils:FastText lifecycle event {'msg': 'effective_min_count=5 retains 1762 unique words (16.34% of original 10781, drops 9019)', 'datetime': '2024-10-19T18:32:42.279364', 'gensim': '4.3.3', 'python': '3.11.10 (main, Oct  3 2024, 02:26:51) [Clang 14.0.6 ]', 'platform': 'macOS-15.0.1-arm64-arm-64bit', 'event': 'prepare_vocab'}\n",
      "INFO:gensim.utils:FastText lifecycle event {'msg': 'effective_min_count=5 leaves 46084 word corpus (76.95% of original 59890, drops 13806)', 'datetime': '2024-10-19T18:32:42.280557', 'gensim': '4.3.3', 'python': '3.11.10 (main, Oct  3 2024, 02:26:51) [Clang 14.0.6 ]', 'platform': 'macOS-15.0.1-arm64-arm-64bit', 'event': 'prepare_vocab'}\n",
      "INFO:gensim.models.word2vec:deleting the raw counts dictionary of 10781 items\n",
      "INFO:gensim.models.word2vec:sample=0.001 downsamples 45 most-common words\n",
      "INFO:gensim.utils:FastText lifecycle event {'msg': 'downsampling leaves estimated 32610.61883565215 word corpus (70.8%% of prior 46084)', 'datetime': '2024-10-19T18:32:42.288378', 'gensim': '4.3.3', 'python': '3.11.10 (main, Oct  3 2024, 02:26:51) [Clang 14.0.6 ]', 'platform': 'macOS-15.0.1-arm64-arm-64bit', 'event': 'prepare_vocab'}\n",
      "INFO:gensim.models.fasttext:estimated required memory for 1762 words, 2000000 buckets and 100 dimensions: 802597824 bytes\n",
      "INFO:gensim.models.word2vec:resetting layer weights\n",
      "INFO:gensim.utils:FastText lifecycle event {'update': False, 'trim_rule': 'None', 'datetime': '2024-10-19T18:32:43.058720', 'gensim': '4.3.3', 'python': '3.11.10 (main, Oct  3 2024, 02:26:51) [Clang 14.0.6 ]', 'platform': 'macOS-15.0.1-arm64-arm-64bit', 'event': 'build_vocab'}\n",
      "INFO:gensim.utils:FastText lifecycle event {'msg': 'training model with 3 workers on 1762 vocabulary and 100 features, using sg=0 hs=0 sample=0.001 negative=5 window=5 shrink_windows=True', 'datetime': '2024-10-19T18:32:43.059275', 'gensim': '4.3.3', 'python': '3.11.10 (main, Oct  3 2024, 02:26:51) [Clang 14.0.6 ]', 'platform': 'macOS-15.0.1-arm64-arm-64bit', 'event': 'train'}\n",
      "INFO:gensim.models.word2vec:EPOCH 0: training on 60387 raw words (32958 effective words) took 0.1s, 594144 effective words/s\n",
      "INFO:gensim.models.word2vec:EPOCH 1: training on 60387 raw words (32906 effective words) took 0.1s, 587954 effective words/s\n",
      "INFO:gensim.models.word2vec:EPOCH 2: training on 60387 raw words (32863 effective words) took 0.1s, 600389 effective words/s\n",
      "INFO:gensim.models.word2vec:EPOCH 3: training on 60387 raw words (32832 effective words) took 0.1s, 586593 effective words/s\n",
      "INFO:gensim.models.word2vec:EPOCH 4: training on 60387 raw words (32827 effective words) took 0.1s, 563063 effective words/s\n",
      "INFO:gensim.utils:FastText lifecycle event {'msg': 'training on 301935 raw words (164386 effective words) took 0.3s, 566351 effective words/s', 'datetime': '2024-10-19T18:32:43.349741', 'gensim': '4.3.3', 'python': '3.11.10 (main, Oct  3 2024, 02:26:51) [Clang 14.0.6 ]', 'platform': 'macOS-15.0.1-arm64-arm-64bit', 'event': 'train'}\n"
     ]
    },
    {
     "name": "stdout",
     "output_type": "stream",
     "text": [
      "<gensim.models.fasttext.FastText object at 0x1363ea6d0>\n"
     ]
    }
   ],
   "source": [
    "corpus_file = datapath(\"lee_background.cor\")\n",
    "model = FastText(vector_size=100)\n",
    "model.build_vocab(corpus_file = corpus_file)\n",
    "\n",
    "model.train(\n",
    "    corpus_file=corpus_file, epochs=model.epochs, \n",
    "    total_examples=model.corpus_count, \n",
    "    total_words=model.corpus_total_words,\n",
    ")\n",
    "\n",
    "print(model)"
   ]
  },
  {
   "cell_type": "code",
   "execution_count": 4,
   "id": "fdbc82b5-3e3e-40cc-974c-e3c34135a803",
   "metadata": {},
   "outputs": [
    {
     "name": "stdout",
     "output_type": "stream",
     "text": [
      "<gensim.models.fasttext.FastTextKeyedVectors object at 0x136551a50>\n"
     ]
    }
   ],
   "source": [
    "wv = model.wv\n",
    "print(wv)"
   ]
  },
  {
   "cell_type": "code",
   "execution_count": 5,
   "id": "26da9c24-caf0-4c52-a099-40f3184383d5",
   "metadata": {},
   "outputs": [
    {
     "name": "stdout",
     "output_type": "stream",
     "text": [
      "True\n",
      "False\n"
     ]
    }
   ],
   "source": [
    "print(\"night\" in wv.key_to_index)\n",
    "print(\"nights\" in wv.key_to_index)"
   ]
  },
  {
   "cell_type": "code",
   "execution_count": 7,
   "id": "11e7c486-ff11-4e79-ada3-c9805d681745",
   "metadata": {},
   "outputs": [
    {
     "name": "stdout",
     "output_type": "stream",
     "text": [
      "0.99999195\n"
     ]
    }
   ],
   "source": [
    "print(wv.similarity(\"night\",\"nights\"))"
   ]
  },
  {
   "cell_type": "code",
   "execution_count": null,
   "id": "dcbe009f-42bb-4bad-8af4-e8d535c2e531",
   "metadata": {},
   "outputs": [],
   "source": []
  },
  {
   "cell_type": "code",
   "execution_count": null,
   "id": "859ad121-45d7-4fdc-9b86-e4bb7ff83d7e",
   "metadata": {},
   "outputs": [],
   "source": []
  }
 ],
 "metadata": {
  "kernelspec": {
   "display_name": "Python 3 (ipykernel)",
   "language": "python",
   "name": "python3"
  },
  "language_info": {
   "codemirror_mode": {
    "name": "ipython",
    "version": 3
   },
   "file_extension": ".py",
   "mimetype": "text/x-python",
   "name": "python",
   "nbconvert_exporter": "python",
   "pygments_lexer": "ipython3",
   "version": "3.11.10"
  }
 },
 "nbformat": 4,
 "nbformat_minor": 5
}
